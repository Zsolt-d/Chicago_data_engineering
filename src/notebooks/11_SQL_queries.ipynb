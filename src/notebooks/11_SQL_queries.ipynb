{
 "cells": [
  {
   "cell_type": "code",
   "execution_count": null,
   "metadata": {},
   "outputs": [],
   "source": [
    "# Which 10 companies make the most money? \n",
    "# Use two columns: Company name and the sum of the fare. \n",
    "# Order by descending order.Make sure that the sum of the fares (total_fare) is not in scientific notation\n",
    "\n",
    "SELECT company_name, SUM(total_fare) AS total_fare\n",
    "FROM \"chicago_taxi_db\".\"taxi_trips\"\n",
    "GROUP BY company_name\n",
    "ORDER BY total_fare DESC\n",
    "LIMIT 10;"
   ]
  },
  {
   "cell_type": "code",
   "execution_count": null,
   "metadata": {},
   "outputs": [],
   "source": [
    "# Show the 10 pickup community areas with the most rides. \n",
    "# Use two columns: community area name and count of rides per area, in descending order for the rides\n",
    "\n",
    "SELECT community_name, COUNT(*) AS rides\n",
    "FROM \"chicago_taxi_db\".\"taxi_trips\" tt JOIN \"chicago_taxi_db\".\"community_areas\" ca ON tt.pickup_community_area_id = ca.area_code\n",
    "GROUP BY pickup_community_area_id\n",
    "ORDER BY rides DESC\n",
    "LIMIT 10;"
   ]
  },
  {
   "cell_type": "code",
   "execution_count": null,
   "metadata": {},
   "outputs": [],
   "source": [
    "# Get the count of taxi rides per day of week. In other words, we'd like to see which day has the most rides. \n",
    "# Use the names of the days instead of numbers (Monday = 1, Tuesday = 2, etc.)\n"
   ]
  }
 ],
 "metadata": {
  "language_info": {
   "name": "python"
  }
 },
 "nbformat": 4,
 "nbformat_minor": 2
}
