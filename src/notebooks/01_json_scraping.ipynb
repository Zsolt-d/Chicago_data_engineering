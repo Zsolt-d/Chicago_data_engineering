{
 "cells": [
  {
   "cell_type": "code",
   "execution_count": 2,
   "metadata": {},
   "outputs": [],
   "source": [
    "import json"
   ]
  },
  {
   "cell_type": "code",
   "execution_count": 4,
   "metadata": {},
   "outputs": [],
   "source": [
    "file_path = \"../../data/json_handling/spotify_playlist.json\"\n",
    "\n",
    "with open(file_path, 'r') as json_file:\n",
    "    data = json.load(json_file)"
   ]
  },
  {
   "cell_type": "code",
   "execution_count": 5,
   "metadata": {},
   "outputs": [
    {
     "name": "stdout",
     "output_type": "stream",
     "text": [
      "Style\n"
     ]
    }
   ],
   "source": [
    "# the name of the 31st track\n",
    "print(data['contents']['items'][30]['name'])"
   ]
  },
  {
   "cell_type": "code",
   "execution_count": 6,
   "metadata": {},
   "outputs": [
    {
     "name": "stdout",
     "output_type": "stream",
     "text": [
      "31309112207\n"
     ]
    }
   ],
   "source": [
    "# total playcount\n",
    "total_playCount = 0\n",
    "for track in data['contents']['items']:\n",
    "    total_playCount += track['playCount']\n",
    "\n",
    "print(total_playCount)"
   ]
  },
  {
   "cell_type": "code",
   "execution_count": 10,
   "metadata": {},
   "outputs": [
    {
     "name": "stdout",
     "output_type": "stream",
     "text": [
      "The lowest playcount is Si No Estás\n"
     ]
    }
   ],
   "source": [
    "# minimum playcount\n",
    "target_index = 0\n",
    "min_playCount = data['contents']['items'][0]['playCount']\n",
    "for i in range(len(data['contents']['items'])):\n",
    "    if data['contents']['items'][i]['playCount'] < min_playCount:\n",
    "        min_playCount = data['contents']['items'][i]['playCount']\n",
    "        target_index = i\n",
    "\n",
    "song_name = data['contents']['items'][target_index]['name']\n",
    "\n",
    "print(f'The lowest playcount is {song_name}')"
   ]
  }
 ],
 "metadata": {
  "kernelspec": {
   "display_name": "venv",
   "language": "python",
   "name": "python3"
  },
  "language_info": {
   "codemirror_mode": {
    "name": "ipython",
    "version": 3
   },
   "file_extension": ".py",
   "mimetype": "text/x-python",
   "name": "python",
   "nbconvert_exporter": "python",
   "pygments_lexer": "ipython3",
   "version": "3.12.1"
  }
 },
 "nbformat": 4,
 "nbformat_minor": 2
}
