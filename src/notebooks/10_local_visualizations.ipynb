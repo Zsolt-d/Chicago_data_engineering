{
 "cells": [
  {
   "cell_type": "code",
   "execution_count": 1,
   "metadata": {},
   "outputs": [],
   "source": [
    "from io import StringIO\n",
    "import os\n",
    "\n",
    "import boto3\n",
    "import pandas as pd"
   ]
  },
  {
   "cell_type": "code",
   "execution_count": 2,
   "metadata": {},
   "outputs": [],
   "source": [
    "aws_access_key_id = os.getenv('AWS_ACCESS_KEY')\n",
    "aws_secret_key = os.getenv('AWS_SECRET_KEY')"
   ]
  },
  {
   "cell_type": "code",
   "execution_count": null,
   "metadata": {},
   "outputs": [],
   "source": [
    "def read_csv_from_s3(bucket: str, path: str, filename: str) -> pd.DataFrame:\n",
    "    \"\"\"Downloads a csv file from an S3 bucket.\n",
    "    \n",
    "    Args:\n",
    "        bucket (str): The bucket where the files at.\n",
    "        path (str): The folder of the files.\n",
    "        filename (str): Name of the file.\n",
    "\n",
    "    Returns:\n",
    "        pd.DataFrame: A DataFrame of the downloaded file.\n",
    "    \"\"\"\n",
    "    \n",
    "    s3 = boto3.client('s3', aws_access_key_id=aws_access_key_id, aws_secret_access_key=aws_secret_key)\n",
    "    \n",
    "    full_path = f'{path}{filename}'\n",
    "    \n",
    "    object = s3.get_object(Bucket=bucket, Key=full_path)\n",
    "    object = object['Body'].read().decode('utf-8')\n",
    "    output_df = pd.read_csv(StringIO(object))\n",
    "    \n",
    "    return output_df"
   ]
  },
  {
   "cell_type": "code",
   "execution_count": null,
   "metadata": {},
   "outputs": [],
   "source": [
    "s3 = boto3.client('s3')\n",
    "bucket = 'chicago-taxi-data-project-dzs'\n",
    "\n",
    "payment_type_path = 'transformed_data/payment_type/'\n",
    "\n",
    "payment_type = read_csv_from_s3(bucket, payment_type_path, 'payment_type_master.csv')"
   ]
  },
  {
   "cell_type": "code",
   "execution_count": null,
   "metadata": {},
   "outputs": [],
   "source": []
  },
  {
   "cell_type": "code",
   "execution_count": null,
   "metadata": {},
   "outputs": [],
   "source": []
  }
 ],
 "metadata": {
  "kernelspec": {
   "display_name": "venv",
   "language": "python",
   "name": "python3"
  },
  "language_info": {
   "codemirror_mode": {
    "name": "ipython",
    "version": 3
   },
   "file_extension": ".py",
   "mimetype": "text/x-python",
   "name": "python",
   "nbconvert_exporter": "python",
   "pygments_lexer": "ipython3",
   "version": "3.12.1"
  }
 },
 "nbformat": 4,
 "nbformat_minor": 2
}
